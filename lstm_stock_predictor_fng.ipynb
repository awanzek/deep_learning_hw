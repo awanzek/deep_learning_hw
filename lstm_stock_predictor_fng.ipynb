{
 "cells": [
  {
   "cell_type": "markdown",
   "metadata": {},
   "source": [
    "# LSTM Stock Predictor Using Fear and Greed Index\n",
    "\n",
    "In this notebook, you will build and train a custom LSTM RNN that uses a 10 day window of Bitcoin fear and greed index values to predict the 11th day closing price. \n",
    "\n",
    "You will need to:\n",
    "\n",
    "1. Prepare the data for training and testing\n",
    "2. Build and train a custom LSTM RNN\n",
    "3. Evaluate the performance of the model"
   ]
  },
  {
   "cell_type": "markdown",
   "metadata": {},
   "source": [
    "## Data Preparation\n",
    "\n",
    "In this section, you will need to prepare the training and testing data for the model. The model will use a rolling 10 day window to predict the 11th day closing price.\n",
    "\n",
    "You will need to:\n",
    "1. Use the `window_data` function to generate the X and y values for the model.\n",
    "2. Split the data into 70% training and 30% testing\n",
    "3. Apply the MinMaxScaler to the X and y values\n",
    "4. Reshape the X_train and X_test data for the model. Note: The required input format for the LSTM is:\n",
    "\n",
    "```python\n",
    "reshape((X_train.shape[0], X_train.shape[1], 1))\n",
    "```"
   ]
  },
  {
   "cell_type": "code",
   "execution_count": 23,
   "metadata": {},
   "outputs": [],
   "source": [
    "import numpy as np\n",
    "import pandas as pd\n",
    "import hvplot.pandas\n",
    "\n",
    "%matplotlib inline"
   ]
  },
  {
   "cell_type": "code",
   "execution_count": 24,
   "metadata": {},
   "outputs": [],
   "source": [
    "# Set the random seed for reproducibility\n",
    "# Note: This is for the homework solution, but it is good practice to comment this out and run multiple experiments to evaluate your model\n",
    "from numpy.random import seed\n",
    "seed(1)\n",
    "from tensorflow import random\n",
    "random.set_seed(2)"
   ]
  },
  {
   "cell_type": "code",
   "execution_count": 25,
   "metadata": {},
   "outputs": [
    {
     "output_type": "execute_result",
     "data": {
      "text/plain": "             fng_value\ndate                  \n2019-07-29          19\n2019-07-28          16\n2019-07-27          47\n2019-07-26          24\n2019-07-25          42",
      "text/html": "<div>\n<style scoped>\n    .dataframe tbody tr th:only-of-type {\n        vertical-align: middle;\n    }\n\n    .dataframe tbody tr th {\n        vertical-align: top;\n    }\n\n    .dataframe thead th {\n        text-align: right;\n    }\n</style>\n<table border=\"1\" class=\"dataframe\">\n  <thead>\n    <tr style=\"text-align: right;\">\n      <th></th>\n      <th>fng_value</th>\n    </tr>\n    <tr>\n      <th>date</th>\n      <th></th>\n    </tr>\n  </thead>\n  <tbody>\n    <tr>\n      <td>2019-07-29</td>\n      <td>19</td>\n    </tr>\n    <tr>\n      <td>2019-07-28</td>\n      <td>16</td>\n    </tr>\n    <tr>\n      <td>2019-07-27</td>\n      <td>47</td>\n    </tr>\n    <tr>\n      <td>2019-07-26</td>\n      <td>24</td>\n    </tr>\n    <tr>\n      <td>2019-07-25</td>\n      <td>42</td>\n    </tr>\n  </tbody>\n</table>\n</div>"
     },
     "metadata": {},
     "execution_count": 25
    }
   ],
   "source": [
    "# Load the fear and greed sentiment data for Bitcoin\n",
    "df = pd.read_csv('btc_sentiment.csv', index_col=\"date\", infer_datetime_format=True, parse_dates=True)\n",
    "df = df.drop(columns=\"fng_classification\")\n",
    "df.head()"
   ]
  },
  {
   "cell_type": "code",
   "execution_count": 26,
   "metadata": {},
   "outputs": [
    {
     "output_type": "execute_result",
     "data": {
      "text/plain": "Date\n2019-07-25    9882.429688\n2019-07-26    9847.450195\n2019-07-27    9478.320313\n2019-07-28    9531.769531\n2019-07-29    9529.889648\nName: Close, dtype: float64"
     },
     "metadata": {},
     "execution_count": 26
    }
   ],
   "source": [
    "# Load the historical closing prices for Bitcoin\n",
    "df2 = pd.read_csv('btc_historic.csv', index_col=\"Date\", infer_datetime_format=True, parse_dates=True)['Close']\n",
    "df2 = df2.sort_index()\n",
    "df2.tail()"
   ]
  },
  {
   "cell_type": "code",
   "execution_count": 27,
   "metadata": {},
   "outputs": [
    {
     "output_type": "execute_result",
     "data": {
      "text/plain": "             fng_value        Close\n2019-07-25          42  9882.429688\n2019-07-26          24  9847.450195\n2019-07-27          47  9478.320313\n2019-07-28          16  9531.769531\n2019-07-29          19  9529.889648",
      "text/html": "<div>\n<style scoped>\n    .dataframe tbody tr th:only-of-type {\n        vertical-align: middle;\n    }\n\n    .dataframe tbody tr th {\n        vertical-align: top;\n    }\n\n    .dataframe thead th {\n        text-align: right;\n    }\n</style>\n<table border=\"1\" class=\"dataframe\">\n  <thead>\n    <tr style=\"text-align: right;\">\n      <th></th>\n      <th>fng_value</th>\n      <th>Close</th>\n    </tr>\n  </thead>\n  <tbody>\n    <tr>\n      <td>2019-07-25</td>\n      <td>42</td>\n      <td>9882.429688</td>\n    </tr>\n    <tr>\n      <td>2019-07-26</td>\n      <td>24</td>\n      <td>9847.450195</td>\n    </tr>\n    <tr>\n      <td>2019-07-27</td>\n      <td>47</td>\n      <td>9478.320313</td>\n    </tr>\n    <tr>\n      <td>2019-07-28</td>\n      <td>16</td>\n      <td>9531.769531</td>\n    </tr>\n    <tr>\n      <td>2019-07-29</td>\n      <td>19</td>\n      <td>9529.889648</td>\n    </tr>\n  </tbody>\n</table>\n</div>"
     },
     "metadata": {},
     "execution_count": 27
    }
   ],
   "source": [
    "# Join the data into a single DataFrame\n",
    "df = df.join(df2, how=\"inner\")\n",
    "df.tail()"
   ]
  },
  {
   "cell_type": "code",
   "execution_count": 28,
   "metadata": {},
   "outputs": [
    {
     "output_type": "execute_result",
     "data": {
      "text/plain": "             fng_value        Close\n2018-02-01          30  9114.719727\n2018-02-02          15  8870.820313\n2018-02-03          40  9251.269531\n2018-02-04          24  8218.049805\n2018-02-05          11  6937.080078",
      "text/html": "<div>\n<style scoped>\n    .dataframe tbody tr th:only-of-type {\n        vertical-align: middle;\n    }\n\n    .dataframe tbody tr th {\n        vertical-align: top;\n    }\n\n    .dataframe thead th {\n        text-align: right;\n    }\n</style>\n<table border=\"1\" class=\"dataframe\">\n  <thead>\n    <tr style=\"text-align: right;\">\n      <th></th>\n      <th>fng_value</th>\n      <th>Close</th>\n    </tr>\n  </thead>\n  <tbody>\n    <tr>\n      <td>2018-02-01</td>\n      <td>30</td>\n      <td>9114.719727</td>\n    </tr>\n    <tr>\n      <td>2018-02-02</td>\n      <td>15</td>\n      <td>8870.820313</td>\n    </tr>\n    <tr>\n      <td>2018-02-03</td>\n      <td>40</td>\n      <td>9251.269531</td>\n    </tr>\n    <tr>\n      <td>2018-02-04</td>\n      <td>24</td>\n      <td>8218.049805</td>\n    </tr>\n    <tr>\n      <td>2018-02-05</td>\n      <td>11</td>\n      <td>6937.080078</td>\n    </tr>\n  </tbody>\n</table>\n</div>"
     },
     "metadata": {},
     "execution_count": 28
    }
   ],
   "source": [
    "df.head()"
   ]
  },
  {
   "cell_type": "code",
   "execution_count": 29,
   "metadata": {},
   "outputs": [],
   "source": [
    "# This function accepts the column number for the features (X) and the target (y)\n",
    "# It chunks the data up with a rolling window of Xt-n to predict Xt\n",
    "# It returns a numpy array of X any y\n",
    "def window_data(df, window, feature_col_number, target_col_number):\n",
    "    X = []\n",
    "    y = []\n",
    "    for i in range(len(df) - window - 1):\n",
    "        features = df.iloc[i:(i + window), feature_col_number]\n",
    "        target = df.iloc[(i + window), target_col_number]\n",
    "        X.append(features)\n",
    "        y.append(target)\n",
    "    return np.array(X), np.array(y).reshape(-1, 1)"
   ]
  },
  {
   "cell_type": "code",
   "execution_count": 30,
   "metadata": {},
   "outputs": [],
   "source": [
    "# Predict Closing Prices using a 10 day window of fear and greed index values and a target of the 11th day closing price\n",
    "# Try a window size anywhere from 1 to 10 and see how the model performance changes\n",
    "window_size = 1\n",
    "\n",
    "# Column index 1 is the `Close` column and column index 0 is the 'Fear and Greed' column\n",
    "feature_column = 0\n",
    "target_column = 1\n",
    "X, y = window_data(df, window_size, feature_column, target_column)"
   ]
  },
  {
   "cell_type": "code",
   "execution_count": 31,
   "metadata": {},
   "outputs": [],
   "source": [
    "# Use 70% of the data for training and the remainder for testing\n",
    "# YOUR CODE HERE!\n",
    "#split the data without the random train test split\n",
    "# Use 70% of the data for training and the remaining 30% for testing but using data in order by date for closing prices in time.\n",
    "splitpoint = int(0.7 * len(X))\n",
    "X_train = X[: splitpoint - 1]\n",
    "X_test = X[splitpoint:]\n",
    "y_train = y[: splitpoint - 1]\n",
    "y_test = y[splitpoint:]\n"
   ]
  },
  {
   "cell_type": "code",
   "execution_count": 32,
   "metadata": {},
   "outputs": [],
   "source": [
    "# Use MinMaxScaler to scale the data between 0 and 1. \n",
    "# YOUR CODE HERE!\n",
    "#import the min max scalar from sklearn library\n",
    "from sklearn.preprocessing import MinMaxScaler\n",
    "# set the scaler to minmaxscaler to scale the data between 0 and 1\n",
    "scaler = MinMaxScaler()\n",
    "# Fit the scaler to the full set of features X\n",
    "scaler.fit(X)\n",
    "# Scale the data for each set of feature data (70% train X and 30% test X)\n",
    "X_train_scaled = scaler.transform(X_train)\n",
    "X_test_scaled = scaler.transform(X_test)\n",
    "\n",
    "#scale y between 0 and 1\n",
    "scaler.fit(y)\n",
    "y_train_scaled=scaler.transform(y_train)\n",
    "y_test_scaled=scaler.transform(y_test)"
   ]
  },
  {
   "cell_type": "code",
   "execution_count": 33,
   "metadata": {},
   "outputs": [],
   "source": [
    "# Reshape the features for the model\n",
    "# Transforming X scaled train and test to a vertical vector\n",
    "# Transforming X scaled train and test to a vertical vector\n",
    "X_train_values= X_train_scaled.reshape((X_train_scaled.shape[0], X_train_scaled.shape[1], 1))\n",
    "X_test_values = X_test_scaled.reshape((X_test.shape[0], X_test_scaled.shape[1], 1))\n",
    "\n",
    "\n",
    "y_train_values=y_train_scaled\n",
    "y_test_values=y_test_scaled"
   ]
  },
  {
   "cell_type": "markdown",
   "metadata": {},
   "source": [
    "---"
   ]
  },
  {
   "cell_type": "markdown",
   "metadata": {},
   "source": [
    "## Build and Train the LSTM RNN\n",
    "\n",
    "In this section, you will design a custom LSTM RNN and fit (train) it using the training data.\n",
    "\n",
    "You will need to:\n",
    "1. Define the model architecture\n",
    "2. Compile the model\n",
    "3. Fit the model to the training data\n",
    "\n",
    "### Hints:\n",
    "You will want to use the same model architecture and random seed for both notebooks. This is necessary to accurately compare the performance of the FNG model vs the closing price model. "
   ]
  },
  {
   "cell_type": "code",
   "execution_count": 34,
   "metadata": {},
   "outputs": [],
   "source": [
    "from tensorflow.keras.models import Sequential\n",
    "from tensorflow.keras.layers import LSTM, Dense, Dropout"
   ]
  },
  {
   "cell_type": "code",
   "execution_count": 35,
   "metadata": {},
   "outputs": [],
   "source": [
    "# Build the LSTM model. \n",
    "# The return sequences need to be set to True if you are adding additional LSTM layers, but \n",
    "# You don't have to do this for the final layer. \n",
    "# YOUR CODE HERE!\n",
    "model = Sequential()\n",
    "\n",
    "number_units = 3\n",
    "dropout_fraction = 0.1\n",
    "\n",
    "# Layer 1\n",
    "model.add(LSTM(\n",
    "    units=number_units,\n",
    "    return_sequences=True,\n",
    "    input_shape=(X_train_values.shape[1], 1))\n",
    "    )\n",
    "model.add(Dropout(dropout_fraction))\n",
    "# Layer 2\n",
    "model.add(LSTM(units=number_units, return_sequences=True))\n",
    "model.add(Dropout(dropout_fraction))\n",
    "# Layer 3\n",
    "model.add(LSTM(units=number_units))\n",
    "model.add(Dropout(dropout_fraction))\n",
    "# Output layer\n",
    "model.add(Dense(1))"
   ]
  },
  {
   "cell_type": "code",
   "execution_count": 36,
   "metadata": {},
   "outputs": [],
   "source": [
    "# Compile the model\n",
    "# YOUR CODE HERE!\n",
    "model.compile(optimizer=\"adam\", loss=\"mean_squared_error\")"
   ]
  },
  {
   "cell_type": "code",
   "execution_count": 37,
   "metadata": {},
   "outputs": [
    {
     "output_type": "stream",
     "name": "stdout",
     "text": "Model: \"sequential_1\"\n_________________________________________________________________\nLayer (type)                 Output Shape              Param #   \n=================================================================\nlstm_3 (LSTM)                (None, 1, 3)              60        \n_________________________________________________________________\ndropout_3 (Dropout)          (None, 1, 3)              0         \n_________________________________________________________________\nlstm_4 (LSTM)                (None, 1, 3)              84        \n_________________________________________________________________\ndropout_4 (Dropout)          (None, 1, 3)              0         \n_________________________________________________________________\nlstm_5 (LSTM)                (None, 3)                 84        \n_________________________________________________________________\ndropout_5 (Dropout)          (None, 3)                 0         \n_________________________________________________________________\ndense_1 (Dense)              (None, 1)                 4         \n=================================================================\nTotal params: 232\nTrainable params: 232\nNon-trainable params: 0\n_________________________________________________________________\n"
    }
   ],
   "source": [
    "# Summarize the model\n",
    "# YOUR CODE HERE!\n",
    "model.summary()"
   ]
  },
  {
   "cell_type": "code",
   "execution_count": 38,
   "metadata": {},
   "outputs": [
    {
     "output_type": "stream",
     "name": "stdout",
     "text": "Train on 377 samples\nEpoch 1/10\n377/377 [==============================] - 9s 23ms/sample - loss: 0.0921\nEpoch 2/10\n377/377 [==============================] - 9s 24ms/sample - loss: 0.0437\nEpoch 3/10\n377/377 [==============================] - 5s 14ms/sample - loss: 0.0412\nEpoch 4/10\n377/377 [==============================] - 4s 11ms/sample - loss: 0.0406\nEpoch 5/10\n377/377 [==============================] - 6s 15ms/sample - loss: 0.0405\nEpoch 6/10\n377/377 [==============================] - 5s 14ms/sample - loss: 0.0405\nEpoch 7/10\n377/377 [==============================] - 5s 14ms/sample - loss: 0.0374\nEpoch 8/10\n377/377 [==============================] - 5s 14ms/sample - loss: 0.0350\nEpoch 9/10\n377/377 [==============================] - 5s 15ms/sample - loss: 0.0345\nEpoch 10/10\n377/377 [==============================] - 6s 15ms/sample - loss: 0.0332\n"
    },
    {
     "output_type": "execute_result",
     "data": {
      "text/plain": "<tensorflow.python.keras.callbacks.History at 0x11544dbd0>"
     },
     "metadata": {},
     "execution_count": 38
    }
   ],
   "source": [
    "# Train the model\n",
    "# Use at least 10 epochs\n",
    "# Do not shuffle the data\n",
    "# Experiement with the batch size, but a smaller batch size is recommended\n",
    "# BATCH SIZE CAN NOT BE LESS THAN 1. YOU NEED AT LEAST ONE FULL BATCH OF DATA!\n",
    "# YOUR CODE HERE!\n",
    "model.fit(X_train_values, y_train_values, epochs=10, shuffle=False, batch_size=1, verbose=1)"
   ]
  },
  {
   "cell_type": "markdown",
   "metadata": {},
   "source": [
    "---"
   ]
  },
  {
   "cell_type": "markdown",
   "metadata": {},
   "source": [
    "## Model Performance\n",
    "\n",
    "In this section, you will evaluate the model using the test data. \n",
    "\n",
    "You will need to:\n",
    "1. Evaluate the model using the `X_test` and `y_test` data.\n",
    "2. Use the X_test data to make predictions\n",
    "3. Create a DataFrame of Real (y_test) vs predicted values. \n",
    "4. Plot the Real vs predicted values as a line chart\n",
    "\n",
    "### Hints\n",
    "Remember to apply the `inverse_transform` function to the predicted and y_test values to recover the actual closing prices."
   ]
  },
  {
   "cell_type": "code",
   "execution_count": 39,
   "metadata": {},
   "outputs": [
    {
     "output_type": "stream",
     "name": "stdout",
     "text": "163/163 [==============================] - 2s 11ms/sample - loss: 0.0929\n"
    },
    {
     "output_type": "execute_result",
     "data": {
      "text/plain": "0.09286000501890124"
     },
     "metadata": {},
     "execution_count": 39
    }
   ],
   "source": [
    "# Evaluate the model\n",
    "# YOUR CODE HERE!\n",
    "model.evaluate(X_test_values, y_test_values)"
   ]
  },
  {
   "cell_type": "code",
   "execution_count": 40,
   "metadata": {},
   "outputs": [],
   "source": [
    "# Make some predictions\n",
    "# YOUR CODE HERE!\n",
    "predictions=model.predict(X_test_values)"
   ]
  },
  {
   "cell_type": "code",
   "execution_count": 41,
   "metadata": {},
   "outputs": [],
   "source": [
    "# Recover the original prices instead of the scaled version\n",
    "predicted_prices = scaler.inverse_transform(predictions)\n",
    "real_prices = scaler.inverse_transform(y_test_values.reshape(-1, 1))"
   ]
  },
  {
   "cell_type": "code",
   "execution_count": 42,
   "metadata": {},
   "outputs": [
    {
     "output_type": "execute_result",
     "data": {
      "text/plain": "          Real    Predicted\n0  3670.919922  5014.056152\n1  3670.919922  4950.808594\n2  3912.570068  4859.584473\n3  3924.239990  5714.366699\n4  3974.050049  5786.901855",
      "text/html": "<div>\n<style scoped>\n    .dataframe tbody tr th:only-of-type {\n        vertical-align: middle;\n    }\n\n    .dataframe tbody tr th {\n        vertical-align: top;\n    }\n\n    .dataframe thead th {\n        text-align: right;\n    }\n</style>\n<table border=\"1\" class=\"dataframe\">\n  <thead>\n    <tr style=\"text-align: right;\">\n      <th></th>\n      <th>Real</th>\n      <th>Predicted</th>\n    </tr>\n  </thead>\n  <tbody>\n    <tr>\n      <td>0</td>\n      <td>3670.919922</td>\n      <td>5014.056152</td>\n    </tr>\n    <tr>\n      <td>1</td>\n      <td>3670.919922</td>\n      <td>4950.808594</td>\n    </tr>\n    <tr>\n      <td>2</td>\n      <td>3912.570068</td>\n      <td>4859.584473</td>\n    </tr>\n    <tr>\n      <td>3</td>\n      <td>3924.239990</td>\n      <td>5714.366699</td>\n    </tr>\n    <tr>\n      <td>4</td>\n      <td>3974.050049</td>\n      <td>5786.901855</td>\n    </tr>\n  </tbody>\n</table>\n</div>"
     },
     "metadata": {},
     "execution_count": 42
    }
   ],
   "source": [
    "# Create a DataFrame of Real and Predicted values\n",
    "stocks = pd.DataFrame({\n",
    "    \"Real\": real_prices.ravel(),\n",
    "    \"Predicted\": predicted_prices.ravel()\n",
    "})\n",
    "stocks.head()"
   ]
  },
  {
   "cell_type": "code",
   "execution_count": 43,
   "metadata": {},
   "outputs": [
    {
     "output_type": "execute_result",
     "data": {
      "text/plain": "<matplotlib.axes._subplots.AxesSubplot at 0x1429d3590>"
     },
     "metadata": {},
     "execution_count": 43
    },
    {
     "output_type": "display_data",
     "data": {
      "text/plain": "<Figure size 432x288 with 1 Axes>",
      "image/svg+xml": "<?xml version=\"1.0\" encoding=\"utf-8\" standalone=\"no\"?>\n<!DOCTYPE svg PUBLIC \"-//W3C//DTD SVG 1.1//EN\"\n  \"http://www.w3.org/Graphics/SVG/1.1/DTD/svg11.dtd\">\n<!-- Created with matplotlib (https://matplotlib.org/) -->\n<svg height=\"248.518125pt\" version=\"1.1\" viewBox=\"0 0 393.422917 248.518125\" width=\"393.422917pt\" xmlns=\"http://www.w3.org/2000/svg\" xmlns:xlink=\"http://www.w3.org/1999/xlink\">\n <defs>\n  <style type=\"text/css\">\n*{stroke-linecap:butt;stroke-linejoin:round;}\n  </style>\n </defs>\n <g id=\"figure_1\">\n  <g id=\"patch_1\">\n   <path d=\"M 0 248.518125 \nL 393.422917 248.518125 \nL 393.422917 0 \nL 0 0 \nz\n\" style=\"fill:none;\"/>\n  </g>\n  <g id=\"axes_1\">\n   <g id=\"patch_2\">\n    <path d=\"M 46.0125 224.64 \nL 380.8125 224.64 \nL 380.8125 7.2 \nL 46.0125 7.2 \nz\n\"/>\n   </g>\n   <g id=\"matplotlib.axis_1\">\n    <g id=\"xtick_1\">\n     <g id=\"line2d_1\">\n      <defs>\n       <path d=\"M 0 0 \nL 0 3.5 \n\" id=\"m0654c169ad\" style=\"stroke:#ffffff;stroke-width:0.8;\"/>\n      </defs>\n      <g>\n       <use style=\"fill:#ffffff;stroke:#ffffff;stroke-width:0.8;\" x=\"46.0125\" xlink:href=\"#m0654c169ad\" y=\"224.64\"/>\n      </g>\n     </g>\n     <g id=\"text_1\">\n      <!-- 0 -->\n      <defs>\n       <path d=\"M 31.78125 66.40625 \nQ 24.171875 66.40625 20.328125 58.90625 \nQ 16.5 51.421875 16.5 36.375 \nQ 16.5 21.390625 20.328125 13.890625 \nQ 24.171875 6.390625 31.78125 6.390625 \nQ 39.453125 6.390625 43.28125 13.890625 \nQ 47.125 21.390625 47.125 36.375 \nQ 47.125 51.421875 43.28125 58.90625 \nQ 39.453125 66.40625 31.78125 66.40625 \nz\nM 31.78125 74.21875 \nQ 44.046875 74.21875 50.515625 64.515625 \nQ 56.984375 54.828125 56.984375 36.375 \nQ 56.984375 17.96875 50.515625 8.265625 \nQ 44.046875 -1.421875 31.78125 -1.421875 \nQ 19.53125 -1.421875 13.0625 8.265625 \nQ 6.59375 17.96875 6.59375 36.375 \nQ 6.59375 54.828125 13.0625 64.515625 \nQ 19.53125 74.21875 31.78125 74.21875 \nz\n\" id=\"DejaVuSans-48\"/>\n      </defs>\n      <g style=\"fill:#ffffff;\" transform=\"translate(42.83125 239.238437)scale(0.1 -0.1)\">\n       <use xlink:href=\"#DejaVuSans-48\"/>\n      </g>\n     </g>\n    </g>\n    <g id=\"xtick_2\">\n     <g id=\"line2d_2\">\n      <g>\n       <use style=\"fill:#ffffff;stroke:#ffffff;stroke-width:0.8;\" x=\"87.345833\" xlink:href=\"#m0654c169ad\" y=\"224.64\"/>\n      </g>\n     </g>\n     <g id=\"text_2\">\n      <!-- 20 -->\n      <defs>\n       <path d=\"M 19.1875 8.296875 \nL 53.609375 8.296875 \nL 53.609375 0 \nL 7.328125 0 \nL 7.328125 8.296875 \nQ 12.9375 14.109375 22.625 23.890625 \nQ 32.328125 33.6875 34.8125 36.53125 \nQ 39.546875 41.84375 41.421875 45.53125 \nQ 43.3125 49.21875 43.3125 52.78125 \nQ 43.3125 58.59375 39.234375 62.25 \nQ 35.15625 65.921875 28.609375 65.921875 \nQ 23.96875 65.921875 18.8125 64.3125 \nQ 13.671875 62.703125 7.8125 59.421875 \nL 7.8125 69.390625 \nQ 13.765625 71.78125 18.9375 73 \nQ 24.125 74.21875 28.421875 74.21875 \nQ 39.75 74.21875 46.484375 68.546875 \nQ 53.21875 62.890625 53.21875 53.421875 \nQ 53.21875 48.921875 51.53125 44.890625 \nQ 49.859375 40.875 45.40625 35.40625 \nQ 44.1875 33.984375 37.640625 27.21875 \nQ 31.109375 20.453125 19.1875 8.296875 \nz\n\" id=\"DejaVuSans-50\"/>\n      </defs>\n      <g style=\"fill:#ffffff;\" transform=\"translate(80.983333 239.238437)scale(0.1 -0.1)\">\n       <use xlink:href=\"#DejaVuSans-50\"/>\n       <use x=\"63.623047\" xlink:href=\"#DejaVuSans-48\"/>\n      </g>\n     </g>\n    </g>\n    <g id=\"xtick_3\">\n     <g id=\"line2d_3\">\n      <g>\n       <use style=\"fill:#ffffff;stroke:#ffffff;stroke-width:0.8;\" x=\"128.679167\" xlink:href=\"#m0654c169ad\" y=\"224.64\"/>\n      </g>\n     </g>\n     <g id=\"text_3\">\n      <!-- 40 -->\n      <defs>\n       <path d=\"M 37.796875 64.3125 \nL 12.890625 25.390625 \nL 37.796875 25.390625 \nz\nM 35.203125 72.90625 \nL 47.609375 72.90625 \nL 47.609375 25.390625 \nL 58.015625 25.390625 \nL 58.015625 17.1875 \nL 47.609375 17.1875 \nL 47.609375 0 \nL 37.796875 0 \nL 37.796875 17.1875 \nL 4.890625 17.1875 \nL 4.890625 26.703125 \nz\n\" id=\"DejaVuSans-52\"/>\n      </defs>\n      <g style=\"fill:#ffffff;\" transform=\"translate(122.316667 239.238437)scale(0.1 -0.1)\">\n       <use xlink:href=\"#DejaVuSans-52\"/>\n       <use x=\"63.623047\" xlink:href=\"#DejaVuSans-48\"/>\n      </g>\n     </g>\n    </g>\n    <g id=\"xtick_4\">\n     <g id=\"line2d_4\">\n      <g>\n       <use style=\"fill:#ffffff;stroke:#ffffff;stroke-width:0.8;\" x=\"170.0125\" xlink:href=\"#m0654c169ad\" y=\"224.64\"/>\n      </g>\n     </g>\n     <g id=\"text_4\">\n      <!-- 60 -->\n      <defs>\n       <path d=\"M 33.015625 40.375 \nQ 26.375 40.375 22.484375 35.828125 \nQ 18.609375 31.296875 18.609375 23.390625 \nQ 18.609375 15.53125 22.484375 10.953125 \nQ 26.375 6.390625 33.015625 6.390625 \nQ 39.65625 6.390625 43.53125 10.953125 \nQ 47.40625 15.53125 47.40625 23.390625 \nQ 47.40625 31.296875 43.53125 35.828125 \nQ 39.65625 40.375 33.015625 40.375 \nz\nM 52.59375 71.296875 \nL 52.59375 62.3125 \nQ 48.875 64.0625 45.09375 64.984375 \nQ 41.3125 65.921875 37.59375 65.921875 \nQ 27.828125 65.921875 22.671875 59.328125 \nQ 17.53125 52.734375 16.796875 39.40625 \nQ 19.671875 43.65625 24.015625 45.921875 \nQ 28.375 48.1875 33.59375 48.1875 \nQ 44.578125 48.1875 50.953125 41.515625 \nQ 57.328125 34.859375 57.328125 23.390625 \nQ 57.328125 12.15625 50.6875 5.359375 \nQ 44.046875 -1.421875 33.015625 -1.421875 \nQ 20.359375 -1.421875 13.671875 8.265625 \nQ 6.984375 17.96875 6.984375 36.375 \nQ 6.984375 53.65625 15.1875 63.9375 \nQ 23.390625 74.21875 37.203125 74.21875 \nQ 40.921875 74.21875 44.703125 73.484375 \nQ 48.484375 72.75 52.59375 71.296875 \nz\n\" id=\"DejaVuSans-54\"/>\n      </defs>\n      <g style=\"fill:#ffffff;\" transform=\"translate(163.65 239.238437)scale(0.1 -0.1)\">\n       <use xlink:href=\"#DejaVuSans-54\"/>\n       <use x=\"63.623047\" xlink:href=\"#DejaVuSans-48\"/>\n      </g>\n     </g>\n    </g>\n    <g id=\"xtick_5\">\n     <g id=\"line2d_5\">\n      <g>\n       <use style=\"fill:#ffffff;stroke:#ffffff;stroke-width:0.8;\" x=\"211.345833\" xlink:href=\"#m0654c169ad\" y=\"224.64\"/>\n      </g>\n     </g>\n     <g id=\"text_5\">\n      <!-- 80 -->\n      <defs>\n       <path d=\"M 31.78125 34.625 \nQ 24.75 34.625 20.71875 30.859375 \nQ 16.703125 27.09375 16.703125 20.515625 \nQ 16.703125 13.921875 20.71875 10.15625 \nQ 24.75 6.390625 31.78125 6.390625 \nQ 38.8125 6.390625 42.859375 10.171875 \nQ 46.921875 13.96875 46.921875 20.515625 \nQ 46.921875 27.09375 42.890625 30.859375 \nQ 38.875 34.625 31.78125 34.625 \nz\nM 21.921875 38.8125 \nQ 15.578125 40.375 12.03125 44.71875 \nQ 8.5 49.078125 8.5 55.328125 \nQ 8.5 64.0625 14.71875 69.140625 \nQ 20.953125 74.21875 31.78125 74.21875 \nQ 42.671875 74.21875 48.875 69.140625 \nQ 55.078125 64.0625 55.078125 55.328125 \nQ 55.078125 49.078125 51.53125 44.71875 \nQ 48 40.375 41.703125 38.8125 \nQ 48.828125 37.15625 52.796875 32.3125 \nQ 56.78125 27.484375 56.78125 20.515625 \nQ 56.78125 9.90625 50.3125 4.234375 \nQ 43.84375 -1.421875 31.78125 -1.421875 \nQ 19.734375 -1.421875 13.25 4.234375 \nQ 6.78125 9.90625 6.78125 20.515625 \nQ 6.78125 27.484375 10.78125 32.3125 \nQ 14.796875 37.15625 21.921875 38.8125 \nz\nM 18.3125 54.390625 \nQ 18.3125 48.734375 21.84375 45.5625 \nQ 25.390625 42.390625 31.78125 42.390625 \nQ 38.140625 42.390625 41.71875 45.5625 \nQ 45.3125 48.734375 45.3125 54.390625 \nQ 45.3125 60.0625 41.71875 63.234375 \nQ 38.140625 66.40625 31.78125 66.40625 \nQ 25.390625 66.40625 21.84375 63.234375 \nQ 18.3125 60.0625 18.3125 54.390625 \nz\n\" id=\"DejaVuSans-56\"/>\n      </defs>\n      <g style=\"fill:#ffffff;\" transform=\"translate(204.983333 239.238437)scale(0.1 -0.1)\">\n       <use xlink:href=\"#DejaVuSans-56\"/>\n       <use x=\"63.623047\" xlink:href=\"#DejaVuSans-48\"/>\n      </g>\n     </g>\n    </g>\n    <g id=\"xtick_6\">\n     <g id=\"line2d_6\">\n      <g>\n       <use style=\"fill:#ffffff;stroke:#ffffff;stroke-width:0.8;\" x=\"252.679167\" xlink:href=\"#m0654c169ad\" y=\"224.64\"/>\n      </g>\n     </g>\n     <g id=\"text_6\">\n      <!-- 100 -->\n      <defs>\n       <path d=\"M 12.40625 8.296875 \nL 28.515625 8.296875 \nL 28.515625 63.921875 \nL 10.984375 60.40625 \nL 10.984375 69.390625 \nL 28.421875 72.90625 \nL 38.28125 72.90625 \nL 38.28125 8.296875 \nL 54.390625 8.296875 \nL 54.390625 0 \nL 12.40625 0 \nz\n\" id=\"DejaVuSans-49\"/>\n      </defs>\n      <g style=\"fill:#ffffff;\" transform=\"translate(243.135417 239.238437)scale(0.1 -0.1)\">\n       <use xlink:href=\"#DejaVuSans-49\"/>\n       <use x=\"63.623047\" xlink:href=\"#DejaVuSans-48\"/>\n       <use x=\"127.246094\" xlink:href=\"#DejaVuSans-48\"/>\n      </g>\n     </g>\n    </g>\n    <g id=\"xtick_7\">\n     <g id=\"line2d_7\">\n      <g>\n       <use style=\"fill:#ffffff;stroke:#ffffff;stroke-width:0.8;\" x=\"294.0125\" xlink:href=\"#m0654c169ad\" y=\"224.64\"/>\n      </g>\n     </g>\n     <g id=\"text_7\">\n      <!-- 120 -->\n      <g style=\"fill:#ffffff;\" transform=\"translate(284.46875 239.238437)scale(0.1 -0.1)\">\n       <use xlink:href=\"#DejaVuSans-49\"/>\n       <use x=\"63.623047\" xlink:href=\"#DejaVuSans-50\"/>\n       <use x=\"127.246094\" xlink:href=\"#DejaVuSans-48\"/>\n      </g>\n     </g>\n    </g>\n    <g id=\"xtick_8\">\n     <g id=\"line2d_8\">\n      <g>\n       <use style=\"fill:#ffffff;stroke:#ffffff;stroke-width:0.8;\" x=\"335.345833\" xlink:href=\"#m0654c169ad\" y=\"224.64\"/>\n      </g>\n     </g>\n     <g id=\"text_8\">\n      <!-- 140 -->\n      <g style=\"fill:#ffffff;\" transform=\"translate(325.802083 239.238437)scale(0.1 -0.1)\">\n       <use xlink:href=\"#DejaVuSans-49\"/>\n       <use x=\"63.623047\" xlink:href=\"#DejaVuSans-52\"/>\n       <use x=\"127.246094\" xlink:href=\"#DejaVuSans-48\"/>\n      </g>\n     </g>\n    </g>\n    <g id=\"xtick_9\">\n     <g id=\"line2d_9\">\n      <g>\n       <use style=\"fill:#ffffff;stroke:#ffffff;stroke-width:0.8;\" x=\"376.679167\" xlink:href=\"#m0654c169ad\" y=\"224.64\"/>\n      </g>\n     </g>\n     <g id=\"text_9\">\n      <!-- 160 -->\n      <g style=\"fill:#ffffff;\" transform=\"translate(367.135417 239.238437)scale(0.1 -0.1)\">\n       <use xlink:href=\"#DejaVuSans-49\"/>\n       <use x=\"63.623047\" xlink:href=\"#DejaVuSans-54\"/>\n       <use x=\"127.246094\" xlink:href=\"#DejaVuSans-48\"/>\n      </g>\n     </g>\n    </g>\n   </g>\n   <g id=\"matplotlib.axis_2\">\n    <g id=\"ytick_1\">\n     <g id=\"line2d_10\">\n      <defs>\n       <path d=\"M 0 0 \nL -3.5 0 \n\" id=\"me0f9ff0eb2\" style=\"stroke:#ffffff;stroke-width:0.8;\"/>\n      </defs>\n      <g>\n       <use style=\"fill:#ffffff;stroke:#ffffff;stroke-width:0.8;\" x=\"46.0125\" xlink:href=\"#me0f9ff0eb2\" y=\"207.718101\"/>\n      </g>\n     </g>\n     <g id=\"text_10\">\n      <!-- 4000 -->\n      <g style=\"fill:#ffffff;\" transform=\"translate(13.5625 211.51732)scale(0.1 -0.1)\">\n       <use xlink:href=\"#DejaVuSans-52\"/>\n       <use x=\"63.623047\" xlink:href=\"#DejaVuSans-48\"/>\n       <use x=\"127.246094\" xlink:href=\"#DejaVuSans-48\"/>\n       <use x=\"190.869141\" xlink:href=\"#DejaVuSans-48\"/>\n      </g>\n     </g>\n    </g>\n    <g id=\"ytick_2\">\n     <g id=\"line2d_11\">\n      <g>\n       <use style=\"fill:#ffffff;stroke:#ffffff;stroke-width:0.8;\" x=\"46.0125\" xlink:href=\"#me0f9ff0eb2\" y=\"164.942724\"/>\n      </g>\n     </g>\n     <g id=\"text_11\">\n      <!-- 6000 -->\n      <g style=\"fill:#ffffff;\" transform=\"translate(13.5625 168.741942)scale(0.1 -0.1)\">\n       <use xlink:href=\"#DejaVuSans-54\"/>\n       <use x=\"63.623047\" xlink:href=\"#DejaVuSans-48\"/>\n       <use x=\"127.246094\" xlink:href=\"#DejaVuSans-48\"/>\n       <use x=\"190.869141\" xlink:href=\"#DejaVuSans-48\"/>\n      </g>\n     </g>\n    </g>\n    <g id=\"ytick_3\">\n     <g id=\"line2d_12\">\n      <g>\n       <use style=\"fill:#ffffff;stroke:#ffffff;stroke-width:0.8;\" x=\"46.0125\" xlink:href=\"#me0f9ff0eb2\" y=\"122.167346\"/>\n      </g>\n     </g>\n     <g id=\"text_12\">\n      <!-- 8000 -->\n      <g style=\"fill:#ffffff;\" transform=\"translate(13.5625 125.966565)scale(0.1 -0.1)\">\n       <use xlink:href=\"#DejaVuSans-56\"/>\n       <use x=\"63.623047\" xlink:href=\"#DejaVuSans-48\"/>\n       <use x=\"127.246094\" xlink:href=\"#DejaVuSans-48\"/>\n       <use x=\"190.869141\" xlink:href=\"#DejaVuSans-48\"/>\n      </g>\n     </g>\n    </g>\n    <g id=\"ytick_4\">\n     <g id=\"line2d_13\">\n      <g>\n       <use style=\"fill:#ffffff;stroke:#ffffff;stroke-width:0.8;\" x=\"46.0125\" xlink:href=\"#me0f9ff0eb2\" y=\"79.391968\"/>\n      </g>\n     </g>\n     <g id=\"text_13\">\n      <!-- 10000 -->\n      <g style=\"fill:#ffffff;\" transform=\"translate(7.2 83.191187)scale(0.1 -0.1)\">\n       <use xlink:href=\"#DejaVuSans-49\"/>\n       <use x=\"63.623047\" xlink:href=\"#DejaVuSans-48\"/>\n       <use x=\"127.246094\" xlink:href=\"#DejaVuSans-48\"/>\n       <use x=\"190.869141\" xlink:href=\"#DejaVuSans-48\"/>\n       <use x=\"254.492188\" xlink:href=\"#DejaVuSans-48\"/>\n      </g>\n     </g>\n    </g>\n    <g id=\"ytick_5\">\n     <g id=\"line2d_14\">\n      <g>\n       <use style=\"fill:#ffffff;stroke:#ffffff;stroke-width:0.8;\" x=\"46.0125\" xlink:href=\"#me0f9ff0eb2\" y=\"36.616591\"/>\n      </g>\n     </g>\n     <g id=\"text_14\">\n      <!-- 12000 -->\n      <g style=\"fill:#ffffff;\" transform=\"translate(7.2 40.415809)scale(0.1 -0.1)\">\n       <use xlink:href=\"#DejaVuSans-49\"/>\n       <use x=\"63.623047\" xlink:href=\"#DejaVuSans-50\"/>\n       <use x=\"127.246094\" xlink:href=\"#DejaVuSans-48\"/>\n       <use x=\"190.869141\" xlink:href=\"#DejaVuSans-48\"/>\n       <use x=\"254.492188\" xlink:href=\"#DejaVuSans-48\"/>\n      </g>\n     </g>\n    </g>\n   </g>\n   <g id=\"line2d_15\">\n    <path clip-path=\"url(#p72ed683670)\" d=\"M 46.0125 214.756364 \nL 48.079167 214.756364 \nL 50.145833 209.588026 \nL 52.2125 209.338433 \nL 54.279167 208.273111 \nL 56.345833 209.064669 \nL 58.4125 208.070356 \nL 60.479167 204.529414 \nL 62.545833 212.602619 \nL 64.6125 211.022285 \nL 66.679167 211.61323 \nL 68.745833 211.33861 \nL 70.8125 211.495806 \nL 74.945833 211.077253 \nL 77.0125 211.732355 \nL 79.079167 213.4654 \nL 81.145833 210.409102 \nL 83.2125 210.391991 \nL 85.279167 210.2288 \nL 87.345833 210.540848 \nL 89.4125 208.835822 \nL 91.479167 209.21866 \nL 93.545833 210.393917 \nL 95.6125 210.10133 \nL 97.679167 210.31799 \nL 99.745833 210.253827 \nL 101.8125 209.27769 \nL 103.879167 207.14042 \nL 105.945833 207.760877 \nL 108.0125 207.956572 \nL 112.145833 206.50435 \nL 114.2125 207.783763 \nL 118.345833 207.563897 \nL 120.4125 207.844073 \nL 122.479167 209.331801 \nL 124.545833 208.953883 \nL 126.6125 206.734696 \nL 128.679167 206.938521 \nL 130.745833 205.335943 \nL 132.8125 205.191576 \nL 134.879167 205.307924 \nL 136.945833 204.48172 \nL 139.0125 188.320961 \nL 141.079167 186.831102 \nL 143.145833 188.183445 \nL 145.2125 185.320272 \nL 147.279167 185.105967 \nL 149.345833 182.028062 \nL 151.4125 180.04051 \nL 153.479167 182.025075 \nL 155.545833 179.516293 \nL 157.6125 185.291825 \nL 159.679167 184.587316 \nL 161.745833 184.605278 \nL 163.8125 182.788828 \nL 165.879167 185.533293 \nL 167.945833 181.778897 \nL 170.0125 181.277362 \nL 172.079167 180.13333 \nL 174.145833 180.009713 \nL 176.2125 179.354172 \nL 178.279167 179.791336 \nL 180.345833 177.889335 \nL 182.4125 174.800307 \nL 184.479167 176.607995 \nL 186.545833 182.851279 \nL 188.6125 181.323772 \nL 190.679167 181.422366 \nL 192.745833 180.503333 \nL 194.8125 181.240999 \nL 196.879167 178.83103 \nL 198.945833 177.999051 \nL 201.0125 175.621164 \nL 203.079167 170.217358 \nL 205.145833 168.363041 \nL 209.279167 170.328787 \nL 211.345833 168.801708 \nL 217.545833 157.279728 \nL 219.6125 139.46229 \nL 221.679167 144.03348 \nL 223.745833 126.308861 \nL 225.8125 122.592322 \nL 227.879167 118.235645 \nL 229.945833 124.859845 \nL 232.0125 135.599671 \nL 234.079167 137.864197 \nL 236.145833 118.036535 \nL 238.2125 122.203918 \nL 240.279167 123.280999 \nL 242.345833 130.147304 \nL 244.4125 124.808726 \nL 246.479167 122.244344 \nL 248.545833 120.902694 \nL 250.6125 106.634955 \nL 252.679167 105.374376 \nL 254.745833 106.792814 \nL 256.8125 107.953953 \nL 258.879167 116.258997 \nL 260.945833 110.389789 \nL 263.0125 110.278569 \nL 265.079167 106.385153 \nL 267.145833 119.718664 \nL 269.2125 129.065513 \nL 271.279167 126.63117 \nL 273.345833 126.287473 \nL 275.4125 122.111099 \nL 277.479167 123.583643 \nL 279.545833 129.793342 \nL 281.6125 121.718205 \nL 283.679167 123.935684 \nL 285.745833 118.442891 \nL 287.8125 117.129041 \nL 289.879167 107.325146 \nL 291.945833 103.91168 \nL 294.0125 101.224956 \nL 296.079167 93.593185 \nL 298.145833 99.03207 \nL 300.2125 94.779554 \nL 302.279167 89.297685 \nL 304.345833 74.710842 \nL 306.4125 64.644301 \nL 308.479167 61.084316 \nL 310.545833 57.239878 \nL 312.6125 42.170121 \nL 314.679167 17.083636 \nL 316.745833 54.708654 \nL 318.8125 29.022687 \nL 320.879167 39.095432 \nL 322.945833 62.94377 \nL 325.0125 66.733234 \nL 327.079167 61.337981 \nL 329.145833 37.009903 \nL 331.2125 54.656688 \nL 333.279167 58.148646 \nL 335.345833 52.680019 \nL 337.4125 47.860521 \nL 339.479167 30.282409 \nL 341.545833 24.489353 \nL 343.6125 34.49664 \nL 345.679167 50.665733 \nL 347.745833 40.950376 \nL 349.8125 50.219808 \nL 351.879167 75.020108 \nL 353.945833 61.206877 \nL 356.0125 91.723245 \nL 358.079167 85.890609 \nL 360.145833 65.739146 \nL 362.2125 67.993604 \nL 364.279167 63.149731 \nL 366.345833 66.843598 \nL 368.4125 72.42236 \nL 370.479167 82.511354 \nL 372.545833 84.265375 \nL 374.6125 81.906526 \nL 376.679167 82.654656 \nL 378.745833 90.549491 \nL 380.8125 89.406336 \nL 380.8125 89.406336 \n\" style=\"fill:none;stroke:#8dd3c7;stroke-linecap:square;stroke-width:1.5;\"/>\n   </g>\n   <g id=\"line2d_16\">\n    <path clip-path=\"url(#p72ed683670)\" d=\"M 46.0125 186.029784 \nL 48.079167 187.382503 \nL 50.145833 189.333576 \nL 52.2125 171.05176 \nL 54.279167 169.5004 \nL 56.345833 174.159053 \nL 58.4125 174.159053 \nL 62.545833 171.05176 \nL 64.6125 166.421304 \nL 66.679167 183.21371 \nL 68.745833 188.04361 \nL 70.8125 188.694086 \nL 72.879167 188.694086 \nL 74.945833 186.711099 \nL 77.0125 187.382503 \nL 79.079167 185.338955 \nL 81.145833 190.57848 \nL 83.2125 191.183361 \nL 85.279167 186.711099 \nL 87.345833 176.477267 \nL 89.4125 178.008868 \nL 91.479167 177.244822 \nL 93.545833 177.244822 \nL 95.6125 176.477267 \nL 97.679167 176.477267 \nL 99.745833 178.008868 \nL 101.8125 177.244822 \nL 103.879167 177.244822 \nL 105.945833 178.008868 \nL 108.0125 174.933845 \nL 110.079167 176.477267 \nL 112.145833 176.477267 \nL 114.2125 177.244822 \nL 116.279167 171.828766 \nL 120.4125 181.019143 \nL 122.479167 185.338955 \nL 124.545833 183.930469 \nL 126.6125 186.029784 \nL 128.679167 185.338955 \nL 130.745833 181.757551 \nL 132.8125 181.019143 \nL 134.879167 175.706757 \nL 136.945833 176.477267 \nL 139.0125 171.828766 \nL 141.079167 173.382934 \nL 143.145833 164.900481 \nL 145.2125 172.606001 \nL 147.279167 174.159053 \nL 149.345833 169.5004 \nL 151.4125 166.421304 \nL 153.479167 169.5004 \nL 155.545833 170.275474 \nL 157.6125 171.828766 \nL 159.679167 169.5004 \nL 161.745833 186.711099 \nL 163.8125 171.828766 \nL 165.879167 180.274543 \nL 167.945833 173.382934 \nL 170.0125 181.019143 \nL 172.079167 172.606001 \nL 174.145833 170.275474 \nL 176.2125 172.606001 \nL 178.279167 171.828766 \nL 180.345833 171.828766 \nL 182.4125 172.606001 \nL 184.479167 167.187021 \nL 186.545833 169.5004 \nL 188.6125 174.933845 \nL 190.679167 187.382503 \nL 192.745833 186.711099 \nL 194.8125 188.04361 \nL 196.879167 186.711099 \nL 198.945833 186.711099 \nL 201.0125 180.274543 \nL 203.079167 181.019143 \nL 205.145833 171.05176 \nL 207.2125 168.726987 \nL 209.279167 167.955725 \nL 211.345833 175.706757 \nL 213.4125 166.421304 \nL 215.479167 171.05176 \nL 217.545833 166.421304 \nL 219.6125 164.900481 \nL 221.679167 161.177091 \nL 223.745833 161.911457 \nL 225.8125 159.725809 \nL 227.879167 159.725809 \nL 229.945833 160.448448 \nL 232.0125 161.911457 \nL 234.079167 169.5004 \nL 236.145833 167.955725 \nL 240.279167 163.396273 \nL 242.345833 167.187021 \nL 244.4125 166.421304 \nL 246.479167 169.5004 \nL 248.545833 170.275474 \nL 250.6125 166.421304 \nL 252.679167 167.955725 \nL 254.745833 165.659002 \nL 256.8125 164.900481 \nL 258.879167 164.900481 \nL 260.945833 163.396273 \nL 263.0125 172.606001 \nL 267.145833 171.05176 \nL 269.2125 168.726987 \nL 271.279167 186.711099 \nL 273.345833 195.576557 \nL 275.4125 191.776221 \nL 277.479167 195.576557 \nL 279.545833 171.828766 \nL 281.6125 171.828766 \nL 283.679167 183.930469 \nL 285.745833 172.606001 \nL 287.8125 173.382934 \nL 289.879167 171.05176 \nL 291.945833 167.955725 \nL 294.0125 161.911457 \nL 296.079167 158.299465 \nL 298.145833 155.528099 \nL 304.345833 157.596167 \nL 306.4125 155.528099 \nL 308.479167 156.210343 \nL 310.545833 155.528099 \nL 312.6125 158.299465 \nL 316.745833 148.526545 \nL 318.8125 150.342096 \nL 320.879167 171.828766 \nL 322.945833 162.651296 \nL 325.0125 159.725809 \nL 327.079167 169.5004 \nL 329.145833 171.05176 \nL 331.2125 159.009394 \nL 333.279167 161.177091 \nL 335.345833 167.955725 \nL 337.4125 164.146126 \nL 339.479167 167.955725 \nL 341.545833 162.651296 \nL 343.6125 155.528099 \nL 345.679167 156.210343 \nL 347.745833 171.828766 \nL 349.8125 192.356853 \nL 351.879167 169.5004 \nL 353.945833 172.606001 \nL 356.0125 200.293294 \nL 358.079167 191.776221 \nL 360.145833 199.155548 \nL 362.2125 188.04361 \nL 364.279167 186.711099 \nL 366.345833 191.776221 \nL 368.4125 186.711099 \nL 370.479167 186.711099 \nL 372.545833 188.04361 \nL 374.6125 198.752127 \nL 376.679167 186.711099 \nL 378.745833 197.013751 \nL 380.8125 183.21371 \nL 380.8125 183.21371 \n\" style=\"fill:none;stroke:#feffb3;stroke-linecap:square;stroke-width:1.5;\"/>\n   </g>\n   <g id=\"patch_3\">\n    <path d=\"M 46.0125 224.64 \nL 46.0125 7.2 \n\" style=\"fill:none;stroke:#ffffff;stroke-linecap:square;stroke-linejoin:miter;stroke-width:0.8;\"/>\n   </g>\n   <g id=\"patch_4\">\n    <path d=\"M 380.8125 224.64 \nL 380.8125 7.2 \n\" style=\"fill:none;stroke:#ffffff;stroke-linecap:square;stroke-linejoin:miter;stroke-width:0.8;\"/>\n   </g>\n   <g id=\"patch_5\">\n    <path d=\"M 46.0125 224.64 \nL 380.8125 224.64 \n\" style=\"fill:none;stroke:#ffffff;stroke-linecap:square;stroke-linejoin:miter;stroke-width:0.8;\"/>\n   </g>\n   <g id=\"patch_6\">\n    <path d=\"M 46.0125 7.2 \nL 380.8125 7.2 \n\" style=\"fill:none;stroke:#ffffff;stroke-linecap:square;stroke-linejoin:miter;stroke-width:0.8;\"/>\n   </g>\n   <g id=\"legend_1\">\n    <g id=\"patch_7\">\n     <path d=\"M 53.0125 44.55625 \nL 132.348437 44.55625 \nQ 134.348437 44.55625 134.348437 42.55625 \nL 134.348437 14.2 \nQ 134.348437 12.2 132.348437 12.2 \nL 53.0125 12.2 \nQ 51.0125 12.2 51.0125 14.2 \nL 51.0125 42.55625 \nQ 51.0125 44.55625 53.0125 44.55625 \nz\n\" style=\"opacity:0.8;stroke:#cccccc;stroke-linejoin:miter;\"/>\n    </g>\n    <g id=\"line2d_17\">\n     <path d=\"M 55.0125 20.298437 \nL 75.0125 20.298437 \n\" style=\"fill:none;stroke:#8dd3c7;stroke-linecap:square;stroke-width:1.5;\"/>\n    </g>\n    <g id=\"line2d_18\"/>\n    <g id=\"text_15\">\n     <!-- Real -->\n     <defs>\n      <path d=\"M 44.390625 34.1875 \nQ 47.5625 33.109375 50.5625 29.59375 \nQ 53.5625 26.078125 56.59375 19.921875 \nL 66.609375 0 \nL 56 0 \nL 46.6875 18.703125 \nQ 43.0625 26.03125 39.671875 28.421875 \nQ 36.28125 30.8125 30.421875 30.8125 \nL 19.671875 30.8125 \nL 19.671875 0 \nL 9.8125 0 \nL 9.8125 72.90625 \nL 32.078125 72.90625 \nQ 44.578125 72.90625 50.734375 67.671875 \nQ 56.890625 62.453125 56.890625 51.90625 \nQ 56.890625 45.015625 53.6875 40.46875 \nQ 50.484375 35.9375 44.390625 34.1875 \nz\nM 19.671875 64.796875 \nL 19.671875 38.921875 \nL 32.078125 38.921875 \nQ 39.203125 38.921875 42.84375 42.21875 \nQ 46.484375 45.515625 46.484375 51.90625 \nQ 46.484375 58.296875 42.84375 61.546875 \nQ 39.203125 64.796875 32.078125 64.796875 \nz\n\" id=\"DejaVuSans-82\"/>\n      <path d=\"M 56.203125 29.59375 \nL 56.203125 25.203125 \nL 14.890625 25.203125 \nQ 15.484375 15.921875 20.484375 11.0625 \nQ 25.484375 6.203125 34.421875 6.203125 \nQ 39.59375 6.203125 44.453125 7.46875 \nQ 49.3125 8.734375 54.109375 11.28125 \nL 54.109375 2.78125 \nQ 49.265625 0.734375 44.1875 -0.34375 \nQ 39.109375 -1.421875 33.890625 -1.421875 \nQ 20.796875 -1.421875 13.15625 6.1875 \nQ 5.515625 13.8125 5.515625 26.8125 \nQ 5.515625 40.234375 12.765625 48.109375 \nQ 20.015625 56 32.328125 56 \nQ 43.359375 56 49.78125 48.890625 \nQ 56.203125 41.796875 56.203125 29.59375 \nz\nM 47.21875 32.234375 \nQ 47.125 39.59375 43.09375 43.984375 \nQ 39.0625 48.390625 32.421875 48.390625 \nQ 24.90625 48.390625 20.390625 44.140625 \nQ 15.875 39.890625 15.1875 32.171875 \nz\n\" id=\"DejaVuSans-101\"/>\n      <path d=\"M 34.28125 27.484375 \nQ 23.390625 27.484375 19.1875 25 \nQ 14.984375 22.515625 14.984375 16.5 \nQ 14.984375 11.71875 18.140625 8.90625 \nQ 21.296875 6.109375 26.703125 6.109375 \nQ 34.1875 6.109375 38.703125 11.40625 \nQ 43.21875 16.703125 43.21875 25.484375 \nL 43.21875 27.484375 \nz\nM 52.203125 31.203125 \nL 52.203125 0 \nL 43.21875 0 \nL 43.21875 8.296875 \nQ 40.140625 3.328125 35.546875 0.953125 \nQ 30.953125 -1.421875 24.3125 -1.421875 \nQ 15.921875 -1.421875 10.953125 3.296875 \nQ 6 8.015625 6 15.921875 \nQ 6 25.140625 12.171875 29.828125 \nQ 18.359375 34.515625 30.609375 34.515625 \nL 43.21875 34.515625 \nL 43.21875 35.40625 \nQ 43.21875 41.609375 39.140625 45 \nQ 35.0625 48.390625 27.6875 48.390625 \nQ 23 48.390625 18.546875 47.265625 \nQ 14.109375 46.140625 10.015625 43.890625 \nL 10.015625 52.203125 \nQ 14.9375 54.109375 19.578125 55.046875 \nQ 24.21875 56 28.609375 56 \nQ 40.484375 56 46.34375 49.84375 \nQ 52.203125 43.703125 52.203125 31.203125 \nz\n\" id=\"DejaVuSans-97\"/>\n      <path d=\"M 9.421875 75.984375 \nL 18.40625 75.984375 \nL 18.40625 0 \nL 9.421875 0 \nz\n\" id=\"DejaVuSans-108\"/>\n     </defs>\n     <g style=\"fill:#ffffff;\" transform=\"translate(83.0125 23.798437)scale(0.1 -0.1)\">\n      <use xlink:href=\"#DejaVuSans-82\"/>\n      <use x=\"69.419922\" xlink:href=\"#DejaVuSans-101\"/>\n      <use x=\"130.943359\" xlink:href=\"#DejaVuSans-97\"/>\n      <use x=\"192.222656\" xlink:href=\"#DejaVuSans-108\"/>\n     </g>\n    </g>\n    <g id=\"line2d_19\">\n     <path d=\"M 55.0125 34.976562 \nL 75.0125 34.976562 \n\" style=\"fill:none;stroke:#feffb3;stroke-linecap:square;stroke-width:1.5;\"/>\n    </g>\n    <g id=\"line2d_20\"/>\n    <g id=\"text_16\">\n     <!-- Predicted -->\n     <defs>\n      <path d=\"M 19.671875 64.796875 \nL 19.671875 37.40625 \nL 32.078125 37.40625 \nQ 38.96875 37.40625 42.71875 40.96875 \nQ 46.484375 44.53125 46.484375 51.125 \nQ 46.484375 57.671875 42.71875 61.234375 \nQ 38.96875 64.796875 32.078125 64.796875 \nz\nM 9.8125 72.90625 \nL 32.078125 72.90625 \nQ 44.34375 72.90625 50.609375 67.359375 \nQ 56.890625 61.8125 56.890625 51.125 \nQ 56.890625 40.328125 50.609375 34.8125 \nQ 44.34375 29.296875 32.078125 29.296875 \nL 19.671875 29.296875 \nL 19.671875 0 \nL 9.8125 0 \nz\n\" id=\"DejaVuSans-80\"/>\n      <path d=\"M 41.109375 46.296875 \nQ 39.59375 47.171875 37.8125 47.578125 \nQ 36.03125 48 33.890625 48 \nQ 26.265625 48 22.1875 43.046875 \nQ 18.109375 38.09375 18.109375 28.8125 \nL 18.109375 0 \nL 9.078125 0 \nL 9.078125 54.6875 \nL 18.109375 54.6875 \nL 18.109375 46.1875 \nQ 20.953125 51.171875 25.484375 53.578125 \nQ 30.03125 56 36.53125 56 \nQ 37.453125 56 38.578125 55.875 \nQ 39.703125 55.765625 41.0625 55.515625 \nz\n\" id=\"DejaVuSans-114\"/>\n      <path d=\"M 45.40625 46.390625 \nL 45.40625 75.984375 \nL 54.390625 75.984375 \nL 54.390625 0 \nL 45.40625 0 \nL 45.40625 8.203125 \nQ 42.578125 3.328125 38.25 0.953125 \nQ 33.9375 -1.421875 27.875 -1.421875 \nQ 17.96875 -1.421875 11.734375 6.484375 \nQ 5.515625 14.40625 5.515625 27.296875 \nQ 5.515625 40.1875 11.734375 48.09375 \nQ 17.96875 56 27.875 56 \nQ 33.9375 56 38.25 53.625 \nQ 42.578125 51.265625 45.40625 46.390625 \nz\nM 14.796875 27.296875 \nQ 14.796875 17.390625 18.875 11.75 \nQ 22.953125 6.109375 30.078125 6.109375 \nQ 37.203125 6.109375 41.296875 11.75 \nQ 45.40625 17.390625 45.40625 27.296875 \nQ 45.40625 37.203125 41.296875 42.84375 \nQ 37.203125 48.484375 30.078125 48.484375 \nQ 22.953125 48.484375 18.875 42.84375 \nQ 14.796875 37.203125 14.796875 27.296875 \nz\n\" id=\"DejaVuSans-100\"/>\n      <path d=\"M 9.421875 54.6875 \nL 18.40625 54.6875 \nL 18.40625 0 \nL 9.421875 0 \nz\nM 9.421875 75.984375 \nL 18.40625 75.984375 \nL 18.40625 64.59375 \nL 9.421875 64.59375 \nz\n\" id=\"DejaVuSans-105\"/>\n      <path d=\"M 48.78125 52.59375 \nL 48.78125 44.1875 \nQ 44.96875 46.296875 41.140625 47.34375 \nQ 37.3125 48.390625 33.40625 48.390625 \nQ 24.65625 48.390625 19.8125 42.84375 \nQ 14.984375 37.3125 14.984375 27.296875 \nQ 14.984375 17.28125 19.8125 11.734375 \nQ 24.65625 6.203125 33.40625 6.203125 \nQ 37.3125 6.203125 41.140625 7.25 \nQ 44.96875 8.296875 48.78125 10.40625 \nL 48.78125 2.09375 \nQ 45.015625 0.34375 40.984375 -0.53125 \nQ 36.96875 -1.421875 32.421875 -1.421875 \nQ 20.0625 -1.421875 12.78125 6.34375 \nQ 5.515625 14.109375 5.515625 27.296875 \nQ 5.515625 40.671875 12.859375 48.328125 \nQ 20.21875 56 33.015625 56 \nQ 37.15625 56 41.109375 55.140625 \nQ 45.0625 54.296875 48.78125 52.59375 \nz\n\" id=\"DejaVuSans-99\"/>\n      <path d=\"M 18.3125 70.21875 \nL 18.3125 54.6875 \nL 36.8125 54.6875 \nL 36.8125 47.703125 \nL 18.3125 47.703125 \nL 18.3125 18.015625 \nQ 18.3125 11.328125 20.140625 9.421875 \nQ 21.96875 7.515625 27.59375 7.515625 \nL 36.8125 7.515625 \nL 36.8125 0 \nL 27.59375 0 \nQ 17.1875 0 13.234375 3.875 \nQ 9.28125 7.765625 9.28125 18.015625 \nL 9.28125 47.703125 \nL 2.6875 47.703125 \nL 2.6875 54.6875 \nL 9.28125 54.6875 \nL 9.28125 70.21875 \nz\n\" id=\"DejaVuSans-116\"/>\n     </defs>\n     <g style=\"fill:#ffffff;\" transform=\"translate(83.0125 38.476562)scale(0.1 -0.1)\">\n      <use xlink:href=\"#DejaVuSans-80\"/>\n      <use x=\"60.287109\" xlink:href=\"#DejaVuSans-114\"/>\n      <use x=\"101.369141\" xlink:href=\"#DejaVuSans-101\"/>\n      <use x=\"162.892578\" xlink:href=\"#DejaVuSans-100\"/>\n      <use x=\"226.369141\" xlink:href=\"#DejaVuSans-105\"/>\n      <use x=\"254.152344\" xlink:href=\"#DejaVuSans-99\"/>\n      <use x=\"309.132812\" xlink:href=\"#DejaVuSans-116\"/>\n      <use x=\"348.341797\" xlink:href=\"#DejaVuSans-101\"/>\n      <use x=\"409.865234\" xlink:href=\"#DejaVuSans-100\"/>\n     </g>\n    </g>\n   </g>\n  </g>\n </g>\n <defs>\n  <clipPath id=\"p72ed683670\">\n   <rect height=\"217.44\" width=\"334.8\" x=\"46.0125\" y=\"7.2\"/>\n  </clipPath>\n </defs>\n</svg>\n",
      "image/png": "[encoded data removed]"
     },
     "metadata": {
      "needs_background": "dark"
     }
    }
   ],
   "source": [
    "# Plot the real vs predicted values as a line chart\n",
    "# YOUR CODE HERE!\n",
    "stocks.plot()"
   ]
  },
  {
   "cell_type": "code",
   "execution_count": null,
   "metadata": {},
   "outputs": [],
   "source": []
  }
 ],
 "metadata": {
  "file_extension": ".py",
  "kernelspec": {
   "display_name": "Python 3",
   "language": "python",
   "name": "python3"
  },
  "language_info": {
   "codemirror_mode": {
    "name": "ipython",
    "version": 3
   },
   "file_extension": ".py",
   "mimetype": "text/x-python",
   "name": "python",
   "nbconvert_exporter": "python",
   "pygments_lexer": "ipython3",
   "version": "3.7.4-final"
  },
  "mimetype": "text/x-python",
  "name": "python",
  "npconvert_exporter": "python",
  "pygments_lexer": "ipython3",
  "version": 3
 },
 "nbformat": 4,
 "nbformat_minor": 4
}